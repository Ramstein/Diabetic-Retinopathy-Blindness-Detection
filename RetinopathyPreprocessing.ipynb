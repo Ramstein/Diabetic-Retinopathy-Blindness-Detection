{
 "cells": [
  {
   "cell_type": "markdown",
   "metadata": {},
   "source": [
    "## Kaggle data management api"
   ]
  },
  {
   "cell_type": "code",
   "execution_count": null,
   "metadata": {},
   "outputs": [],
   "source": [
    "# !cd /home/ec2-user/SageMaker\n",
    "# !pip install kaggle # now download the api token and store it to /home/ec2-user/.kaggle/kaggle.json\n",
    "# !chmod 600 /home/ec2-user/.kaggle/kaggle.json # for privacy\n",
    "# !kaggle competitions download -c aptos2019-blindness-detection"
   ]
  },
  {
   "cell_type": "markdown",
   "metadata": {},
   "source": [
    "## Preprocessing the authenication management"
   ]
  },
  {
   "cell_type": "code",
   "execution_count": 1,
   "metadata": {},
   "outputs": [
    {
     "name": "stderr",
     "output_type": "stream",
     "text": [
      "The method get_image_uri has been renamed in sagemaker>=2.\n",
      "See: https://sagemaker.readthedocs.io/en/stable/v2.html for details.\n",
      "Defaulting to the only supported framework/algorithm version: 1. Ignoring framework/algorithm version: 1.\n"
     ]
    },
    {
     "name": "stdout",
     "output_type": "stream",
     "text": [
      "CPU times: user 719 ms, sys: 131 ms, total: 849 ms\n",
      "Wall time: 943 ms\n"
     ]
    }
   ],
   "source": [
    "%%time\n",
    "import boto3\n",
    "import os \n",
    "import urllib.request\n",
    "import re\n",
    "import sagemaker\n",
    "from sagemaker import get_execution_role\n",
    "from sagemaker.amazon.amazon_estimator import get_image_uri\n",
    "\n",
    "role = get_execution_role()\n",
    "\n",
    "bucket = \"dataset-retinopathy\"\n",
    "region_name=\"us-east-1\"\n",
    "\n",
    "training_image = get_image_uri(boto3.Session().region_name, 'image-classification')\n",
    "\n",
    "def download(url):\n",
    "    filename = url.split(\"/\")[-1]\n",
    "    if not os.path.exists(filename):\n",
    "        urllib.request.urlretrieve(url, filename)\n",
    "\n",
    "def upload_to_s3(channel, file):\n",
    "    s3 = boto3.resource('s3')\n",
    "    data = open(file, \"rb\")\n",
    "    key = channel + '/' + file\n",
    "    s3.Bucket(bucket).put_object(Key=key, Body=data)\n",
    "    \n",
    "    \n",
    "# download('http://data.mxnet.io/data/caltech-256/caltech-256-60-train.rec')\n",
    "# download('http://data.mxnet.io/data/caltech-256/caltech-256-60-val.rec')\n",
    "\n",
    "# upload_to_s3(s3_train_key, 'caltech-256-60-train.rec')\n",
    "# upload_to_s3(s3_validation_key, 'caltech-256-60-val.rec')\n",
    "import botocore\n",
    "from botocore.exceptions import ClientError\n",
    "\n",
    "def upload_dir_to_s3(bucket, s3_folder, dir_to_upload):\n",
    "    s3_client = boto3.client('s3', region_name=region_name)\n",
    "    print(\"Uploading {} to s3://{}/{}\".format(dir_to_upload, bucket, s3_folder))\n",
    "    # enumerate local files recursively\n",
    "    for root, dirs, files in os.walk(dir_to_upload):\n",
    "        for filename in files:\n",
    "            # construct the full local path\n",
    "            local_path = os.path.join(root, filename)\n",
    "            # construct the full Dropbox path\n",
    "            relative_path = os.path.relpath(local_path, dir_to_upload)\n",
    "            s3_path = os.path.join(s3_folder, relative_path).replace(\"\\\\\", \"/\")\n",
    "            try:\n",
    "                s3_client.head_object(Bucket=bucket, Key=s3_path)\n",
    "                print(\"Path found on S3! Deleting %s...\" % s3_path)\n",
    "                try:\n",
    "                    s3_client.delete_object(Bucket=bucket, Key=s3_path)\n",
    "                    try:\n",
    "                        s3_client.upload_file(local_path, Bucket=bucket, Key=s3_path)\n",
    "                    except ClientError as e:\n",
    "                        logging.error(e)\n",
    "                except:\n",
    "                    print(\"Unable to delete from s3 %s...\" % s3_path)\n",
    "            except:\n",
    "                try:\n",
    "                    s3_client.upload_file(local_path, Bucket=bucket, Key=s3_path)\n",
    "                except ClientError as e:\n",
    "                    logging.error(e)\n",
    "    print(\"Upload completed successfully.\")\n",
    "    \n",
    "def download_dir(s3_folder, local_path, bucket=\"\"):\n",
    "    \"\"\"\n",
    "    params:\n",
    "    - s3_folder: pattern to match in s3\n",
    "    - local_path: local_path path to folder in which to place files\n",
    "    - bucket: s3 bucket with target contents\n",
    "    - client: initialized s3 client object\n",
    "    \"\"\"\n",
    "    client = boto3.client('s3', region_name=region_name)\n",
    "    keys = []\n",
    "    dirs = []\n",
    "    next_token = ''\n",
    "    base_kwargs = {\n",
    "        'Bucket': bucket,\n",
    "        'Prefix': s3_folder,\n",
    "    }\n",
    "    while next_token is not None:\n",
    "        kwargs = base_kwargs.copy()\n",
    "        if next_token != '':\n",
    "            kwargs.update({'ContinuationToken': next_token})\n",
    "        results = client.list_objects_v2(**kwargs)\n",
    "        contents = results.get('Contents')\n",
    "        for i in contents:\n",
    "            k = i.get('Key')\n",
    "            if k[-1] != '/':\n",
    "                keys.append(k)\n",
    "            else:\n",
    "                dirs.append(k)\n",
    "        next_token = results.get('NextContinuationToken')\n",
    "    for d in dirs:\n",
    "        dest_pathname = os.path.join(local_path, d)\n",
    "        if not os.path.exists(os.path.dirname(dest_pathname)):\n",
    "            os.makedirs(os.path.dirname(dest_pathname))\n",
    "    for k in keys:\n",
    "        dest_pathname = os.path.join(local_path, k)\n",
    "        if not os.path.exists(os.path.dirname(dest_pathname)):\n",
    "            os.makedirs(os.path.dirname(dest_pathname))\n",
    "        try:\n",
    "            print(\"Downloading {}\".format(dest_pathname))\n",
    "            client.download_file(bucket, k, dest_pathname)\n",
    "        except botocore.exceptions.ClientError as e:\n",
    "            if e.response['Error']['Code'] == \"404\":\n",
    "                print(\"The object does not exist.\")\n",
    "            else:\n",
    "                raise\n",
    "\n"
   ]
  },
  {
   "cell_type": "markdown",
   "metadata": {},
   "source": [
    "## Preprocessing the files before uploading"
   ]
  },
  {
   "cell_type": "code",
   "execution_count": 2,
   "metadata": {},
   "outputs": [],
   "source": [
    "# mv /home/ec2-user/aptos2019-blindness-detection.zip /home/ec2-user/SageMaker/\n",
    "# !unzip -q /home/ec2-user/SageMaker/aptos2019-blindness-detection.zip -d /home/ec2-user/SageMaker/data  #-q for quitely no verbose\n",
    "# !rm -rf /home/ec2-user/SageMaker/data"
   ]
  },
  {
   "cell_type": "markdown",
   "metadata": {},
   "source": [
    "## Uploading files to s3"
   ]
  },
  {
   "cell_type": "code",
   "execution_count": 3,
   "metadata": {},
   "outputs": [],
   "source": [
    "# upload_dir_to_s3(bucket=bucket, s3_folder='aptos-2019', dir_to_upload=\"/home/ec2-user/SageMaker/data\")\n",
    "# !rm -rf /home/ec2-user/SageMaker/imageclassification_caltech_2020-12-24"
   ]
  },
  {
   "cell_type": "code",
   "execution_count": 17,
   "metadata": {},
   "outputs": [
    {
     "name": "stdout",
     "output_type": "stream",
     "text": [
      "Cloning into 'Diabetic-Retinopathy-Blindness-Detection'...\n",
      "remote: Enumerating objects: 5, done.\u001b[K\n",
      "remote: Counting objects: 100% (5/5), done.\u001b[K\n",
      "remote: Compressing objects: 100% (5/5), done.\u001b[K\n",
      "remote: Total 178 (delta 0), reused 1 (delta 0), pack-reused 173\u001b[K\n",
      "Receiving objects: 100% (178/178), 102.77 MiB | 46.84 MiB/s, done.\n",
      "Resolving deltas: 100% (17/17), done.\n"
     ]
    }
   ],
   "source": [
    "# !git clone https://github.com/RamsteinWR/Diabetic-Retinopathy-Blindness-Detection.git"
   ]
  },
  {
   "cell_type": "code",
   "execution_count": 4,
   "metadata": {},
   "outputs": [],
   "source": [
    "# !cd /home/ec2-user/SageMaker/Diabetic-Retinopathy-Blindness-Detection\n",
    "# !pip install -r requirements.txt\n"
   ]
  },
  {
   "cell_type": "markdown",
   "metadata": {},
   "source": [
    "### AssertionError: NVidia Apex package must be installed. See https://github.com/NVIDIA/apex.\n"
   ]
  },
  {
   "cell_type": "code",
   "execution_count": null,
   "metadata": {},
   "outputs": [],
   "source": [
    "# !pip install --quiet -v --no-cache-dir --global-option=\"--cpp_ext\" --global-option=\"--cuda_ext\" git+https://github.com/NVIDIA/apex\n",
    "# !pip install git+https://github.com/mapillary/inplace_abn.git@v1.0.3"
   ]
  },
  {
   "cell_type": "markdown",
   "metadata": {},
   "source": [
    "<a id='idg4c.1'></a>\n",
    "## Dependencies\n",
    "___\n",
    "### import packages and check SageMaker version"
   ]
  },
  {
   "cell_type": "code",
   "execution_count": 6,
   "metadata": {},
   "outputs": [],
   "source": [
    "import json\n",
    "import torch\n",
    "import tarfile\n",
    "import pickle\n",
    "import matplotlib.pyplot as plt\n",
    "import torchvision as tv\n",
    "import pathlib                          # Path management tool (standard library)\n",
    "import subprocess                       # Runs shell commands via Python (standard library)\n",
    "import sagemaker                        # SageMaker Python SDK\n",
    "from sagemaker.pytorch import PyTorch   # PyTorch Estimator for TensorFlow"
   ]
  },
  {
   "cell_type": "code",
   "execution_count": 8,
   "metadata": {},
   "outputs": [
    {
     "name": "stdout",
     "output_type": "stream",
     "text": [
      "Using manual seed: 42\n",
      "InplaceABN not available, using classic BatchNorm+Act\n",
      "Dropped 250 bad samples\n",
      "Train [1328, 244, 666, 126, 194] Valid [477, 87, 254, 61, 78]\n",
      "Datasets         : /home/ec2-user/SageMaker/data\n",
      "  Train size     : 42 2558\n",
      "  Valid size     : 16 957\n",
      "  Aptos 2019     : True\n",
      "  Aptos 2015     : False\n",
      "  IDRID          : False\n",
      "  Messidor       : False\n",
      "Train session    : Dec24_22_50/efficientb6_max_512_medium_aptos2019_fold0_hardcore_euclid\n",
      "  FP16 mode      : True\n",
      "  Fast mode      : False\n",
      "  Mixup          : False\n",
      "  Balance cls.   : False\n",
      "  Balance ds.    : False\n",
      "  Warmup epoch   : 10\n",
      "  Train epochs   : 100\n",
      "  Workers        : 2\n",
      "  Fold           : 0\n",
      "  Log dir        : runs/Dec24_22_50/efficientb6_max_512_medium_aptos2019_fold0_hardcore_euclid\n",
      "  Augmentations  : medium\n",
      "Model            : efficientb6_max\n",
      "  Parameters     : (39449482, 39449482)\n",
      "  Image size     : (512, 512)\n",
      "  Freeze encoder : False\n",
      "  Dropout        : 0.3\n",
      "  Classes        : ['No DR', 'Mild', 'Moderate', 'Severe', 'Proliferative DR'] 5\n",
      "Optimizer        : Adam\n",
      "  Learning rate  : 0.0001\n",
      "  Batch size     : 60\n",
      "  Criterion (cls): None\n",
      "  Criterion (reg): ['mse']\n",
      "  Criterion (ord): None\n",
      "  Scheduler      : multistep\n",
      "  Weight decay   : 0.0 None\n",
      "  L1 reg.        : 0\n",
      "  L2 reg.        : 0\n",
      "  Early stopping : 20\n",
      "Traceback (most recent call last):\n",
      "  File \"/home/ec2-user/anaconda3/envs/pytorch_p36/lib/python3.6/site-packages/catalyst/utils/torch.py\", line 99, in assert_fp16_available\n",
      "    __import__(\"apex\")\n",
      "ModuleNotFoundError: No module named 'apex'\n",
      "\n",
      "During handling of the above exception, another exception occurred:\n",
      "\n",
      "Traceback (most recent call last):\n",
      "  File \"Diabetic-Retinopathy-Blindness-Detection/train_reg.py\", line 361, in <module>\n",
      "    main()\n",
      "  File \"Diabetic-Retinopathy-Blindness-Detection/train_reg.py\", line 305, in main\n",
      "    checkpoint_data={\"cmd_args\": vars(args)}\n",
      "  File \"/home/ec2-user/anaconda3/envs/pytorch_p36/lib/python3.6/site-packages/catalyst/dl/runner/supervised.py\", line 96, in train\n",
      "    self.run_experiment(experiment, check=check)\n",
      "  File \"/home/ec2-user/anaconda3/envs/pytorch_p36/lib/python3.6/site-packages/catalyst/dl/core/runner.py\", line 192, in run_experiment\n",
      "    self._run_stage(stage)\n",
      "  File \"/home/ec2-user/anaconda3/envs/pytorch_p36/lib/python3.6/site-packages/catalyst/dl/core/runner.py\", line 166, in _run_stage\n",
      "    self._prepare_state(stage)\n",
      "  File \"/home/ec2-user/anaconda3/envs/pytorch_p36/lib/python3.6/site-packages/catalyst/dl/core/runner.py\", line 73, in _prepare_state\n",
      "    self._get_experiment_components(stage)\n",
      "  File \"/home/ec2-user/anaconda3/envs/pytorch_p36/lib/python3.6/site-packages/catalyst/dl/core/runner.py\", line 57, in _get_experiment_components\n",
      "    distributed_params=self.experiment.distributed_params\n",
      "  File \"/home/ec2-user/anaconda3/envs/pytorch_p36/lib/python3.6/site-packages/catalyst/dl/utils/torch.py\", line 38, in process_components\n",
      "    utils.assert_fp16_available()\n",
      "  File \"/home/ec2-user/anaconda3/envs/pytorch_p36/lib/python3.6/site-packages/catalyst/utils/torch.py\", line 102, in assert_fp16_available\n",
      "    \"NVidia Apex package must be installed. \" \\\n",
      "AssertionError: NVidia Apex package must be installed. See https://github.com/NVIDIA/apex.\n"
     ]
    }
   ],
   "source": []
  },
  {
   "cell_type": "code",
   "execution_count": null,
   "metadata": {},
   "outputs": [],
   "source": []
  }
 ],
 "metadata": {
  "kernelspec": {
   "display_name": "conda_pytorch_p36",
   "language": "python",
   "name": "conda_pytorch_p36"
  },
  "language_info": {
   "codemirror_mode": {
    "name": "ipython",
    "version": 3
   },
   "file_extension": ".py",
   "mimetype": "text/x-python",
   "name": "python",
   "nbconvert_exporter": "python",
   "pygments_lexer": "ipython3",
   "version": "3.6.10"
  }
 },
 "nbformat": 4,
 "nbformat_minor": 4
}
